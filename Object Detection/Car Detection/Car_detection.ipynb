{
 "cells": [
  {
   "cell_type": "code",
   "execution_count": 3,
   "metadata": {},
   "outputs": [
    {
     "name": "stdout",
     "output_type": "stream",
     "text": [
      "Project Topic : Vehicle Classification\n"
     ]
    }
   ],
   "source": [
    "import cv2\n",
    "\n",
    "print('Project Topic : Vehicle Classification')\n",
    "\n",
    "cascade_src = 'cars.xml'\n",
    "\n",
    "video_src = 'video.avi'\n",
    "\n",
    "cap = cv2.VideoCapture(video_src)\n",
    "\n",
    "car_cascade = cv2.CascadeClassifier(cascade_src)\n",
    "\n",
    "\n",
    "while True:\n",
    "    ret, img = cap.read()\n",
    "   \n",
    "    gray = cv2.cvtColor(img, cv2.COLOR_BGR2GRAY)\n",
    "    \n",
    "    cars = car_cascade.detectMultiScale(gray)\n",
    "    \n",
    "\n",
    "\n",
    "    for (x,y,w,h) in cars:\n",
    "        cv2.rectangle(img,(x,y),(x+w,y+h),(0,255,255),2)\n",
    "    \n",
    "    cv2.imshow('video', img)\n",
    "   \n",
    "    \n",
    "    if cv2.waitKey(33) == 27:\n",
    "        break\n",
    "\n",
    "cv2.destroyAllWindows()"
   ]
  },
  {
   "cell_type": "code",
   "execution_count": null,
   "metadata": {},
   "outputs": [],
   "source": []
  }
 ],
 "metadata": {
  "kernelspec": {
   "display_name": "Python 3",
   "language": "python",
   "name": "python3"
  },
  "language_info": {
   "codemirror_mode": {
    "name": "ipython",
    "version": 3
   },
   "file_extension": ".py",
   "mimetype": "text/x-python",
   "name": "python",
   "nbconvert_exporter": "python",
   "pygments_lexer": "ipython3",
   "version": "3.7.0"
  }
 },
 "nbformat": 4,
 "nbformat_minor": 2
}
